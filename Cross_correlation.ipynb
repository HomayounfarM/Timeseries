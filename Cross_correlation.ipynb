{
  "nbformat": 4,
  "nbformat_minor": 0,
  "metadata": {
    "colab": {
      "private_outputs": true,
      "provenance": [],
      "authorship_tag": "ABX9TyMIKPT9dg15P4HBx1fejHwg",
      "include_colab_link": true
    },
    "kernelspec": {
      "name": "python3",
      "display_name": "Python 3"
    },
    "language_info": {
      "name": "python"
    }
  },
  "cells": [
    {
      "cell_type": "markdown",
      "metadata": {
        "id": "view-in-github",
        "colab_type": "text"
      },
      "source": [
        "<a href=\"https://colab.research.google.com/github/HomayounfarM/Timeseries/blob/main/Cross_correlation.ipynb\" target=\"_parent\"><img src=\"https://colab.research.google.com/assets/colab-badge.svg\" alt=\"Open In Colab\"/></a>"
      ]
    },
    {
      "cell_type": "markdown",
      "source": [
        "#Cross-correlation"
      ],
      "metadata": {
        "id": "rjNDat-gQ9H8"
      }
    },
    {
      "cell_type": "markdown",
      "source": [
        "##Cross-Correlation in Python: 4 Different Methods"
      ],
      "metadata": {
        "id": "juWq5NcNRIpq"
      }
    },
    {
      "cell_type": "markdown",
      "source": [
        "Cross-correlation is a basic signal processing method, which is used to analyze the similarity between two signals with different lags. Not only can you get an idea of how well the two signals match with each other, but you also get the point of time or an index, where they are the most similar.\n",
        "\n",
        "Investors use it to check how two stocks or assets perform against each other.  In time series analysis, it can be used to find the time delays between two series.  "
      ],
      "metadata": {
        "id": "Mniqb6d8Reqx"
      }
    },
    {
      "cell_type": "code",
      "execution_count": null,
      "metadata": {
        "id": "03HuSRG5Q8Th"
      },
      "outputs": [],
      "source": []
    }
  ]
}